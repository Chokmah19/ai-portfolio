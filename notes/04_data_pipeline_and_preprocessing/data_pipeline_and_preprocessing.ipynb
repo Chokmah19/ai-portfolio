{
 "cells": [
  {
   "cell_type": "code",
   "execution_count": 3,
   "id": "f693da1a-ae27-422f-a7b2-5b47eef16f0a",
   "metadata": {},
   "outputs": [
    {
     "name": "stdout",
     "output_type": "stream",
     "text": [
      "✅ 標準化檢查通過：mean = {'age': 0.0, 'income': 3.700743415417188e-17} std = {'age': 0.9999999999999999, 'income': 1.0}\n",
      "        age    income city\n",
      "0 -1.414214 -1.678293    A\n",
      "1  0.000000  0.387298    B\n",
      "2  0.707107  0.000000    A\n",
      "3 -0.707107 -0.129099    C\n",
      "4  0.000000  1.420094    B\n",
      "5  1.414214  0.000000    C\n",
      "\n",
      "→ 標準化後各欄位 mean／std：\n",
      "age       0.000000e+00\n",
      "income    3.700743e-17\n",
      "dtype: float64 age       1.0\n",
      "income    1.0\n",
      "dtype: float64\n"
     ]
    }
   ],
   "source": [
    "# 1. 先從 preprocessing import 我們需要的東西\n",
    "from preprocessing import MyScaler\n",
    "\n",
    "# 2. 定義 fill_missing 函式\n",
    "def fill_missing(df):\n",
    "    # 用 age 平均值填補 age 欄，income 平均值填補 income 欄\n",
    "    df_new = df.copy()\n",
    "    df_new['age']    = df_new['age'].fillna(df_new['age'].mean())\n",
    "    df_new['income'] = df_new['income'].fillna(df_new['income'].mean())\n",
    "    return df_new\n",
    "\n",
    "# 3. 定義 run_pipeline：依序呼叫 steps list\n",
    "def run_pipeline(df, steps):\n",
    "    df_curr = df.copy()\n",
    "    for fn in steps:\n",
    "        df_curr = fn(df_curr)\n",
    "    return df_curr\n",
    "\n",
    "# 4. 準備一份含缺值的測試資料\n",
    "import pandas as pd\n",
    "df_raw = pd.DataFrame({\n",
    "    'age':    [25, None, 37, 29, None, 41],\n",
    "    'income': [500, 700, None, 650, 800, None],\n",
    "    'city':   ['A','B','A','C','B','C']  # 非數值欄位，不會被標準化\n",
    "})\n",
    "\n",
    "# 5. 組合 steps：先填補再標準化\n",
    "steps = [\n",
    "    fill_missing,\n",
    "    MyScaler().fit_transform\n",
    "]\n",
    "\n",
    "# 6. 執行 pipeline\n",
    "df_clean = run_pipeline(df_raw, steps)\n",
    "\n",
    "# 7. 檢視結果\n",
    "print(df_clean)\n",
    "print(\"\\n→ 標準化後各欄位 mean／std：\")\n",
    "print(df_clean[['age','income']].mean(), df_clean[['age','income']].std())"
   ]
  },
  {
   "cell_type": "code",
   "execution_count": null,
   "id": "7186f5a8-2c29-411b-96e5-248efc3ef043",
   "metadata": {},
   "outputs": [],
   "source": []
  }
 ],
 "metadata": {
  "kernelspec": {
   "display_name": "Python 3 (ipykernel)",
   "language": "python",
   "name": "python3"
  },
  "language_info": {
   "codemirror_mode": {
    "name": "ipython",
    "version": 3
   },
   "file_extension": ".py",
   "mimetype": "text/x-python",
   "name": "python",
   "nbconvert_exporter": "python",
   "pygments_lexer": "ipython3",
   "version": "3.13.5"
  }
 },
 "nbformat": 4,
 "nbformat_minor": 5
}
