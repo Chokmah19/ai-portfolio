{
 "cells": [
  {
   "cell_type": "code",
   "execution_count": null,
   "id": "46d0644f-78c3-45ae-a7ea-aa5f4382369b",
   "metadata": {},
   "outputs": [],
   "source": [
    "import pandas as pd\n",
    "df = pd.read_csv(\"titanic.csv\")\n",
    "\n",
    "#快速預覽資料（進入 GroupBy 前的暖身）\n",
    "\n",
    "df.head()\n",
    "df.info()\n",
    "df.describe()\n",
    "df.isnull().sum()"
   ]
  },
  {
   "cell_type": "code",
   "execution_count": null,
   "id": "6ad99f6d",
   "metadata": {},
   "outputs": [],
   "source": [
    "#各艙等平均年齡、各艙等平均存活率\n",
    "#重新命名欄位,要注意原始欄位大小寫，否則會出現KeyError\n",
    "\n",
    "df.groupby('pclass').agg(\n",
    "    mean_age=('age', 'mean'),\n",
    "    survival_rate=('survived', 'mean')\n",
    ")\n"
   ]
  },
  {
   "cell_type": "code",
   "execution_count": null,
   "id": "f67885aa",
   "metadata": {},
   "outputs": [],
   "source": [
    "#各艙等的平均年齡、年齡標準差，以及存活率\n",
    "#練習多層聚合，改進輸出結果可讀性\n",
    "\n",
    "df.groupby('pclass').agg(\n",
    "    mean_age=(\"age\", \"mean\"),\n",
    "    std_age=(\"age\", \"std\"),\n",
    "    survival_rate=(\"survived\", \"mean\"))"
   ]
  },
  {
   "cell_type": "code",
   "execution_count": null,
   "id": "f0d0f716",
   "metadata": {},
   "outputs": [],
   "source": [
    "#用樞紐表一次同時比較兩個分類變數對某個數值變數的影響，快速呈現分組之間的交互結果。\n",
    "# 1. 匯入函式\n",
    "import pandas as pd\n",
    "\n",
    "# 2. 建立 pivot table\n",
    "pivot = df.pivot_table(\n",
    "    index= 'sex',\n",
    "    columns='pclass',\n",
    "    values='age',\n",
    "    aggfunc='median'\n",
    ")\n",
    "\n",
    "# 3. 顯示結果\n",
    "pivot"
   ]
  },
  {
   "cell_type": "code",
   "execution_count": null,
   "id": "c5d8d6a3",
   "metadata": {},
   "outputs": [],
   "source": [
    "#交叉分析存活率 & 排序篩選\n",
    "# 1. 交叉計算存活率\n",
    "pivot_sr = df.pivot_table(\n",
    "    index='sex',\n",
    "    columns='pclass',\n",
    "    values='survived',\n",
    "    aggfunc='mean'\n",
    ")\n",
    "\n",
    "# 2. 轉成長表方便排序\n",
    "sr_long = pivot_sr.stack()  # 欄索引（pclass＝1、2、3）變成第二層行索引\n",
    "\n",
    "# 3. 排序\n",
    "sr_sorted = sr_long.sort_values(ascending=False) #由大到小排序\n",
    "\n",
    "# 4. 看最前面（最高）和最後面（最低）幾筆\n",
    "highest = sr_sorted.head(1)\n",
    "lowest  = sr_sorted.tail(1)\n",
    "\n",
    "pivot_sr\n"
   ]
  },
  {
   "cell_type": "code",
   "execution_count": null,
   "id": "96b636de",
   "metadata": {},
   "outputs": [
    {
     "name": "stdout",
     "output_type": "stream",
     "text": [
      "<class 'pandas.core.frame.DataFrame'>\n",
      "RangeIndex: 144 entries, 0 to 143\n",
      "Data columns (total 3 columns):\n",
      " #   Column      Non-Null Count  Dtype \n",
      "---  ------      --------------  ----- \n",
      " 0   year        144 non-null    int64 \n",
      " 1   month       144 non-null    object\n",
      " 2   passengers  144 non-null    int64 \n",
      "dtypes: int64(2), object(1)\n",
      "memory usage: 3.5+ KB\n"
     ]
    }
   ],
   "source": [
    "#匯入並預覽 flights 資料\n",
    "\n",
    "import pandas as pd\n",
    "df_f = pd.read_csv(\"flights.csv\")\n",
    "df_f.head()\n",
    "df_f.info()\n"
   ]
  },
  {
   "cell_type": "code",
   "execution_count": null,
   "id": "4043dccb",
   "metadata": {},
   "outputs": [
    {
     "data": {
      "text/html": [
       "<div>\n",
       "<style scoped>\n",
       "    .dataframe tbody tr th:only-of-type {\n",
       "        vertical-align: middle;\n",
       "    }\n",
       "\n",
       "    .dataframe tbody tr th {\n",
       "        vertical-align: top;\n",
       "    }\n",
       "\n",
       "    .dataframe thead th {\n",
       "        text-align: right;\n",
       "    }\n",
       "</style>\n",
       "<table border=\"1\" class=\"dataframe\">\n",
       "  <thead>\n",
       "    <tr style=\"text-align: right;\">\n",
       "      <th></th>\n",
       "      <th>year</th>\n",
       "      <th>month</th>\n",
       "      <th>passengers</th>\n",
       "      <th>date_str</th>\n",
       "    </tr>\n",
       "    <tr>\n",
       "      <th>date</th>\n",
       "      <th></th>\n",
       "      <th></th>\n",
       "      <th></th>\n",
       "      <th></th>\n",
       "    </tr>\n",
       "  </thead>\n",
       "  <tbody>\n",
       "    <tr>\n",
       "      <th>1949-01-01</th>\n",
       "      <td>1949</td>\n",
       "      <td>January</td>\n",
       "      <td>112</td>\n",
       "      <td>1949-January-01</td>\n",
       "    </tr>\n",
       "    <tr>\n",
       "      <th>1949-02-01</th>\n",
       "      <td>1949</td>\n",
       "      <td>February</td>\n",
       "      <td>118</td>\n",
       "      <td>1949-February-01</td>\n",
       "    </tr>\n",
       "    <tr>\n",
       "      <th>1949-03-01</th>\n",
       "      <td>1949</td>\n",
       "      <td>March</td>\n",
       "      <td>132</td>\n",
       "      <td>1949-March-01</td>\n",
       "    </tr>\n",
       "    <tr>\n",
       "      <th>1949-04-01</th>\n",
       "      <td>1949</td>\n",
       "      <td>April</td>\n",
       "      <td>129</td>\n",
       "      <td>1949-April-01</td>\n",
       "    </tr>\n",
       "    <tr>\n",
       "      <th>1949-05-01</th>\n",
       "      <td>1949</td>\n",
       "      <td>May</td>\n",
       "      <td>121</td>\n",
       "      <td>1949-May-01</td>\n",
       "    </tr>\n",
       "  </tbody>\n",
       "</table>\n",
       "</div>"
      ],
      "text/plain": [
       "            year     month  passengers          date_str\n",
       "date                                                    \n",
       "1949-01-01  1949   January         112   1949-January-01\n",
       "1949-02-01  1949  February         118  1949-February-01\n",
       "1949-03-01  1949     March         132     1949-March-01\n",
       "1949-04-01  1949     April         129     1949-April-01\n",
       "1949-05-01  1949       May         121       1949-May-01"
      ]
     },
     "execution_count": 30,
     "metadata": {},
     "output_type": "execute_result"
    }
   ],
   "source": [
    "#建立 DatetimeIndex\n",
    "#設計合成日期字串(年-月-日)\n",
    "year_str = df_f['year'].astype(str)                 #year轉成字串\n",
    "date_str = year_str + '-' + df_f['month'] + '-01'   #連成日期字串\n",
    "df_f['date_str'] = date_str                         #新增date_str欄位\n",
    "df_f['date'] = pd.to_datetime(df_f['date_str'])     #字串轉成Datetime\n",
    "df_f = df_f.set_index('date')                       #設為索引\n",
    "df_f.head()"
   ]
  }
 ],
 "metadata": {
  "kernelspec": {
   "display_name": "Python 3",
   "language": "python",
   "name": "python3"
  },
  "language_info": {
   "codemirror_mode": {
    "name": "ipython",
    "version": 3
   },
   "file_extension": ".py",
   "mimetype": "text/x-python",
   "name": "python",
   "nbconvert_exporter": "python",
   "pygments_lexer": "ipython3",
   "version": "3.13.5"
  }
 },
 "nbformat": 4,
 "nbformat_minor": 5
}
