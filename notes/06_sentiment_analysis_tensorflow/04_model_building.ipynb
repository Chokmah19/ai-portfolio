{
 "cells": [
  {
   "cell_type": "code",
   "execution_count": null,
   "id": "d9a1eb10",
   "metadata": {},
   "outputs": [
    {
     "name": "stdout",
     "output_type": "stream",
     "text": [
      "vocab size: 10000\n",
      "shapes: (40000, 10000) (10000, 10000)\n",
      "Train acc: 0.946325 Test acc: 0.8805\n",
      "              precision    recall  f1-score   support\n",
      "\n",
      "           0     0.8835    0.8766    0.8800      5000\n",
      "           1     0.8776    0.8844    0.8810      5000\n",
      "\n",
      "    accuracy                         0.8805     10000\n",
      "   macro avg     0.8805    0.8805    0.8805     10000\n",
      "weighted avg     0.8805    0.8805    0.8805     10000\n",
      "\n",
      "Artifacts saved: ['X_test.npz', 'X_train.npz', 'baseline_metrics.json', 'model_logreg_count_C0.1.joblib', 'vectorizer.joblib', 'y_test.csv', 'y_train.csv']\n",
      "Reloaded model acc: 0.8805\n"
     ]
    }
   ],
   "source": [
    "# Baseline: Logistic Regression with CountVectorizer\n",
    "# -----------------------------------------------\n",
    "\n",
    "import os, joblib, json, time\n",
    "import pandas as pd\n",
    "from scipy import sparse\n",
    "from sklearn.linear_model import LogisticRegression\n",
    "from sklearn.metrics import accuracy_score, classification_report\n",
    "\n",
    "# === A1. 載入資料與向量器 ===\n",
    "vectorizer = joblib.load(\"artifacts/vectorizer.joblib\")\n",
    "X_train = sparse.load_npz(\"artifacts/X_train.npz\")\n",
    "X_test  = sparse.load_npz(\"artifacts/X_test.npz\")\n",
    "y_train = pd.read_csv(\"artifacts/y_train.csv\").squeeze(\"columns\")\n",
    "y_test  = pd.read_csv(\"artifacts/y_test.csv\").squeeze(\"columns\")\n",
    "\n",
    "print(\"vocab size:\", len(vectorizer.vocabulary_))\n",
    "print(\"shapes:\", X_train.shape, X_test.shape)\n",
    "\n",
    "# === A2. 建立與訓練模型 ===\n",
    "clf_final = LogisticRegression(solver='liblinear', C=0.1, max_iter=1000)\n",
    "clf_final.fit(X_train, y_train)\n",
    "\n",
    "# 評估訓練集與測試集準確率\n",
    "y_pred_train = clf_final.predict(X_train)\n",
    "y_pred_test  = clf_final.predict(X_test)\n",
    "train_acc_final = accuracy_score(y_train, y_pred_train)\n",
    "test_acc_final  = accuracy_score(y_test,  y_pred_test)\n",
    "print(\"Train acc:\", train_acc_final, \"Test acc:\", test_acc_final)\n",
    "\n",
    "# 額外列印分類報告（可選）\n",
    "print(classification_report(y_test, y_pred_test, digits=4))\n",
    "\n",
    "# === A3. 存檔 ===\n",
    "os.makedirs(\"artifacts\", exist_ok=True)\n",
    "MODEL_PATH = \"artifacts/model_logreg_count_C0.1.joblib\"\n",
    "joblib.dump(clf_final, MODEL_PATH)\n",
    "\n",
    "meta = {\n",
    "    \"model\": \"LogisticRegression\",\n",
    "    \"vectorizer\": \"CountVectorizer\",\n",
    "    \"max_features\": 10000,\n",
    "    \"solver\": \"liblinear\",\n",
    "    \"C\": 0.1,\n",
    "    \"train_accuracy\": float(train_acc_final),\n",
    "    \"test_accuracy\":  float(test_acc_final),\n",
    "    \"timestamp\": time.strftime(\"%Y-%m-%d %H:%M:%S\")\n",
    "}\n",
    "with open(\"artifacts/baseline_metrics.json\", \"w\", encoding=\"utf-8\") as f:\n",
    "    json.dump(meta, f, ensure_ascii=False, indent=2)\n",
    "\n",
    "print(\"Artifacts saved:\", sorted(os.listdir(\"artifacts\")))\n",
    "\n",
    "# === A4. 驗證存檔可重讀 ===\n",
    "clf_loaded = joblib.load(MODEL_PATH)\n",
    "y_pred_reload = clf_loaded.predict(X_test)\n",
    "print(\"Reloaded model acc:\", accuracy_score(y_test, y_pred_reload))\n"
   ]
  }
 ],
 "metadata": {
  "kernelspec": {
   "display_name": "Python 3",
   "language": "python",
   "name": "python3"
  },
  "language_info": {
   "codemirror_mode": {
    "name": "ipython",
    "version": 3
   },
   "file_extension": ".py",
   "mimetype": "text/x-python",
   "name": "python",
   "nbconvert_exporter": "python",
   "pygments_lexer": "ipython3",
   "version": "3.13.5"
  }
 },
 "nbformat": 4,
 "nbformat_minor": 5
}
