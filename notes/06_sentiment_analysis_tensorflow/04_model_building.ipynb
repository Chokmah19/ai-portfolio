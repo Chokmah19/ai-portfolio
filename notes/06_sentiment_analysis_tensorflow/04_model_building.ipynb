{
 "cells": [
  {
   "cell_type": "code",
   "execution_count": null,
   "id": "d9a1eb10",
   "metadata": {},
   "outputs": [
    {
     "name": "stdout",
     "output_type": "stream",
     "text": [
      "10000\n",
      "(40000, 10000) (10000, 10000)\n"
     ]
    }
   ],
   "source": [
    "# === A 區：載入資料 ===\n",
    "import joblib\n",
    "from scipy import sparse\n",
    "import pandas as pd\n",
    "\n",
    "vectorizer = joblib.load(\"artifacts/vectorizer.joblib\")\n",
    "X_train = sparse.load_npz(\"artifacts/X_train.npz\")\n",
    "X_test  = sparse.load_npz(\"artifacts/X_test.npz\")\n",
    "y_train = pd.read_csv(\"artifacts/y_train.csv\").squeeze(\"columns\")\n",
    "y_test  = pd.read_csv(\"artifacts/y_test.csv\").squeeze(\"columns\")\n",
    "\n",
    "print(\"Vocabulary size:\", len(vectorizer.vocabulary_))\n",
    "print(\"Shapes:\", X_train.shape, X_test.shape)\n",
    "\n",
    "# === B 區：訓練 baseline 模型 ===\n",
    "from sklearn.linear_model import LogisticRegression\n",
    "from sklearn.metrics import accuracy_score\n",
    "\n",
    "clf = LogisticRegression(solver='liblinear', max_iter=1000)\n",
    "clf.fit(X_train, y_train)\n",
    "\n",
    "train_acc = accuracy_score(y_train, clf.predict(X_train))\n",
    "test_acc  = accuracy_score(y_test,  clf.predict(X_test))\n",
    "\n",
    "print(\"Train Accuracy:\", train_acc)\n",
    "print(\"Test Accuracy:\", test_acc)\n",
    "\n",
    "# === C 區：分類報告與指標表 ===\n",
    "from sklearn.metrics import classification_report, precision_score, recall_score, f1_score\n",
    "\n",
    "y_pred = clf.predict(X_test)\n",
    "print(classification_report(y_test, y_pred, digits=4))\n",
    "\n",
    "baseline_metrics = pd.DataFrame({\n",
    "    'Model': ['Logistic Regression (baseline)'],\n",
    "    'Train Accuracy': [train_acc],\n",
    "    'Test Accuracy': [test_acc],\n",
    "    'Test Precision': [precision_score(y_test, y_pred)],\n",
    "    'Test Recall': [recall_score(y_test, y_pred)],\n",
    "    'Test F1': [f1_score(y_test, y_pred)]\n",
    "})\n",
    "\n",
    "baseline_metrics\n",
    "\n"
   ]
  }
 ],
 "metadata": {
  "kernelspec": {
   "display_name": "Python 3",
   "language": "python",
   "name": "python3"
  },
  "language_info": {
   "codemirror_mode": {
    "name": "ipython",
    "version": 3
   },
   "file_extension": ".py",
   "mimetype": "text/x-python",
   "name": "python",
   "nbconvert_exporter": "python",
   "pygments_lexer": "ipython3",
   "version": "3.13.5"
  }
 },
 "nbformat": 4,
 "nbformat_minor": 5
}
