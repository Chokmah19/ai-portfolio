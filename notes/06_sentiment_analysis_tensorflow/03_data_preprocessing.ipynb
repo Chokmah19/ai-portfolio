{
 "cells": [
  {
   "cell_type": "code",
   "execution_count": 8,
   "id": "43b34a0b",
   "metadata": {},
   "outputs": [
    {
     "name": "stdout",
     "output_type": "stream",
     "text": [
      "['hello', 'world', 'hows', 'everything']\n"
     ]
    }
   ],
   "source": [
    "import re\n",
    "\n",
    "text = \"Hello, world! 😄 How's everything?\"\n",
    "\n",
    "# Step 1: 去除標點與表情符號\n",
    "cleaned = re.sub(r\"[^\\w\\s]\", \"\", text)\n",
    "\n",
    "# Step 2: 轉小寫\n",
    "lowercase = cleaned.lower()\n",
    "\n",
    "# Step 3: 分詞\n",
    "words = lowercase.split()\n",
    "\n",
    "print(words)"
   ]
  },
  {
   "cell_type": "code",
   "execution_count": 10,
   "id": "3163c72f",
   "metadata": {},
   "outputs": [
    {
     "name": "stdout",
     "output_type": "stream",
     "text": [
      "['hello', 'world', 'hows']\n"
     ]
    }
   ],
   "source": [
    "# 已分詞後的詞彙清單\n",
    "words = ['hello', 'world', 'hows', 'everything']\n",
    "\n",
    "# 引入 sklearn 的 stop words\n",
    "from sklearn.feature_extraction.text import ENGLISH_STOP_WORDS\n",
    "stop_words = ENGLISH_STOP_WORDS\n",
    "\n",
    "# 過濾掉 stop words\n",
    "filtered_words = [word for word in words if word not in stop_words]\n",
    "\n",
    "print(filtered_words)\n"
   ]
  },
  {
   "cell_type": "code",
   "execution_count": null,
   "id": "99434691",
   "metadata": {},
   "outputs": [],
   "source": [
    "def clean_text(text):\n",
    "    # 1. 去除標點與特殊符號（re.sub）\n",
    "    cleaned = re.sub(r\"[^\\w\\s]\", \"\", text)\n",
    "    # 2. 轉小寫\n",
    "    lowercase = cleaned.lower()\n",
    "    # 3. 分詞\n",
    "    words = lowercase.split()\n",
    "    # 4. 去除 stop words（用 sklearn）\n",
    "    from sklearn.feature_extraction.text import ENGLISH_STOP_WORDS\n",
    "    stop_words = ENGLISH_STOP_WORDS\n",
    "    filtered_words = [text for text in words if text not in stop_words]\n",
    "\n",
    "    return filtered_words"
   ]
  },
  {
   "cell_type": "markdown",
   "id": "5c8e8f93",
   "metadata": {},
   "source": []
  }
 ],
 "metadata": {
  "kernelspec": {
   "display_name": "Python 3",
   "language": "python",
   "name": "python3"
  },
  "language_info": {
   "codemirror_mode": {
    "name": "ipython",
    "version": 3
   },
   "file_extension": ".py",
   "mimetype": "text/x-python",
   "name": "python",
   "nbconvert_exporter": "python",
   "pygments_lexer": "ipython3",
   "version": "3.13.5"
  }
 },
 "nbformat": 4,
 "nbformat_minor": 5
}
