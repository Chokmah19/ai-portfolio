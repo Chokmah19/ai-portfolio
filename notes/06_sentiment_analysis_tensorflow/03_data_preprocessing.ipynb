{
 "cells": [
  {
   "cell_type": "code",
   "execution_count": 31,
   "id": "99434691",
   "metadata": {},
   "outputs": [],
   "source": [
    "import re\n",
    "from sklearn.feature_extraction.text import ENGLISH_STOP_WORDS\n",
    "\n",
    "stop_words = ENGLISH_STOP_WORDS\n",
    "\n",
    "# 前處理單句用函式\n",
    "def clean_text(text):\n",
    "    cleaned = re.sub(r\"[^\\w\\s]\", \"\", text)   # 去除標點與特殊符號\n",
    "    lowercase = cleaned.lower()              # 轉小寫\n",
    "    words = lowercase.split()                # 分詞\n",
    "    filtered_words = [word for word in words if word not in stop_words]  # 去除 stop words\n",
    "    return filtered_words"
   ]
  },
  {
   "cell_type": "code",
   "execution_count": 32,
   "id": "933a2aac",
   "metadata": {},
   "outputs": [
    {
     "data": {
      "text/html": [
       "<div>\n",
       "<style scoped>\n",
       "    .dataframe tbody tr th:only-of-type {\n",
       "        vertical-align: middle;\n",
       "    }\n",
       "\n",
       "    .dataframe tbody tr th {\n",
       "        vertical-align: top;\n",
       "    }\n",
       "\n",
       "    .dataframe thead th {\n",
       "        text-align: right;\n",
       "    }\n",
       "</style>\n",
       "<table border=\"1\" class=\"dataframe\">\n",
       "  <thead>\n",
       "    <tr style=\"text-align: right;\">\n",
       "      <th></th>\n",
       "      <th>review</th>\n",
       "      <th>clean_tokens</th>\n",
       "      <th>sentiment</th>\n",
       "      <th>label</th>\n",
       "    </tr>\n",
       "  </thead>\n",
       "  <tbody>\n",
       "    <tr>\n",
       "      <th>0</th>\n",
       "      <td>One of the other reviewers has mentioned that ...</td>\n",
       "      <td>[reviewers, mentioned, watching, just, 1, oz, ...</td>\n",
       "      <td>positive</td>\n",
       "      <td>1</td>\n",
       "    </tr>\n",
       "    <tr>\n",
       "      <th>1</th>\n",
       "      <td>A wonderful little production. &lt;br /&gt;&lt;br /&gt;The...</td>\n",
       "      <td>[wonderful, little, production, br, br, filmin...</td>\n",
       "      <td>positive</td>\n",
       "      <td>1</td>\n",
       "    </tr>\n",
       "    <tr>\n",
       "      <th>2</th>\n",
       "      <td>I thought this was a wonderful way to spend ti...</td>\n",
       "      <td>[thought, wonderful, way, spend, time, hot, su...</td>\n",
       "      <td>positive</td>\n",
       "      <td>1</td>\n",
       "    </tr>\n",
       "    <tr>\n",
       "      <th>3</th>\n",
       "      <td>Basically there's a family where a little boy ...</td>\n",
       "      <td>[basically, theres, family, little, boy, jake,...</td>\n",
       "      <td>negative</td>\n",
       "      <td>0</td>\n",
       "    </tr>\n",
       "    <tr>\n",
       "      <th>4</th>\n",
       "      <td>Petter Mattei's \"Love in the Time of Money\" is...</td>\n",
       "      <td>[petter, matteis, love, time, money, visually,...</td>\n",
       "      <td>positive</td>\n",
       "      <td>1</td>\n",
       "    </tr>\n",
       "  </tbody>\n",
       "</table>\n",
       "</div>"
      ],
      "text/plain": [
       "                                              review  \\\n",
       "0  One of the other reviewers has mentioned that ...   \n",
       "1  A wonderful little production. <br /><br />The...   \n",
       "2  I thought this was a wonderful way to spend ti...   \n",
       "3  Basically there's a family where a little boy ...   \n",
       "4  Petter Mattei's \"Love in the Time of Money\" is...   \n",
       "\n",
       "                                        clean_tokens sentiment  label  \n",
       "0  [reviewers, mentioned, watching, just, 1, oz, ...  positive      1  \n",
       "1  [wonderful, little, production, br, br, filmin...  positive      1  \n",
       "2  [thought, wonderful, way, spend, time, hot, su...  positive      1  \n",
       "3  [basically, theres, family, little, boy, jake,...  negative      0  \n",
       "4  [petter, matteis, love, time, money, visually,...  positive      1  "
      ]
     },
     "execution_count": 32,
     "metadata": {},
     "output_type": "execute_result"
    }
   ],
   "source": [
    "import pandas as pd\n",
    "\n",
    "# 載入 CSV 資料（有兩欄：review, sentiment）\n",
    "df = pd.read_csv(\"dataset/IMDB Dataset.csv\")\n",
    "\n",
    "# Step 1: 套用 clean_text() 處理文字欄位\n",
    "df['clean_tokens'] = df['review'].apply(clean_text)\n",
    "\n",
    "# Step 2: 轉換情緒標籤為數值\n",
    "df['label'] = df['sentiment'].map({'positive': 1, 'negative': 0})\n",
    "\n",
    "# 確認結果\n",
    "df[['review', 'clean_tokens', 'sentiment', 'label']].head()"
   ]
  },
  {
   "cell_type": "code",
   "execution_count": null,
   "id": "5d34be0e",
   "metadata": {},
   "outputs": [
    {
     "name": "stdout",
     "output_type": "stream",
     "text": [
      "✅ 已存到 artifacts/\n"
     ]
    }
   ],
   "source": [
    "# 補：把 tokens 黏回一句文字，給向量器用\n",
    "df['clean_text'] = df['clean_tokens'].apply(lambda toks: \" \".join(toks))\n",
    "\n",
    "from sklearn.model_selection import train_test_split\n",
    "from sklearn.feature_extraction.text import CountVectorizer\n",
    "\n",
    "# 為避免資料外洩，先 train_test_split 再 fit_transform（只在訓練集上 fit）\n",
    "# Step 1: 先切分（避免資料外洩，並保持標籤比例）\n",
    "X_text_train, X_text_test, y_train, y_test = train_test_split(\n",
    "    df['clean_text'], df['label'],\n",
    "    test_size=0.2, random_state=9, stratify=df['label']\n",
    ")\n",
    "\n",
    "# Step 2: 向量化：只在 train 上 fit\n",
    "cv = CountVectorizer(max_features=10000)\n",
    "X_train = cv.fit_transform(X_text_train)\n",
    "X_test  = cv.transform(X_text_test)\n",
    "\n",
    "import os, joblib\n",
    "from scipy import sparse\n",
    "\n",
    "os.makedirs(\"artifacts\", exist_ok=True)\n",
    "joblib.dump(cv, \"artifacts/vectorizer.joblib\")\n",
    "sparse.save_npz(\"artifacts/X_train.npz\", X_train)\n",
    "sparse.save_npz(\"artifacts/X_test.npz\",  X_test)\n",
    "y_train.to_csv(\"artifacts/y_train.csv\", index=False)\n",
    "y_test.to_csv(\"artifacts/y_test.csv\", index=False)\n",
    "print(\"✅ 已存到 artifacts/\")\n"
   ]
  },
  {
   "cell_type": "code",
   "execution_count": 34,
   "id": "8bbc5ba4",
   "metadata": {},
   "outputs": [
    {
     "data": {
      "text/plain": [
       "['vectorizer.joblib', 'X_test.npz', 'X_train.npz', 'y_test.csv', 'y_train.csv']"
      ]
     },
     "execution_count": 34,
     "metadata": {},
     "output_type": "execute_result"
    }
   ],
   "source": [
    "import os; os.listdir(\"artifacts\")"
   ]
  },
  {
   "cell_type": "markdown",
   "id": "5c8e8f93",
   "metadata": {},
   "source": []
  }
 ],
 "metadata": {
  "kernelspec": {
   "display_name": "Python 3",
   "language": "python",
   "name": "python3"
  },
  "language_info": {
   "codemirror_mode": {
    "name": "ipython",
    "version": 3
   },
   "file_extension": ".py",
   "mimetype": "text/x-python",
   "name": "python",
   "nbconvert_exporter": "python",
   "pygments_lexer": "ipython3",
   "version": "3.13.5"
  }
 },
 "nbformat": 4,
 "nbformat_minor": 5
}
