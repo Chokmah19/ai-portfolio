{
 "cells": [
  {
   "cell_type": "code",
   "execution_count": null,
   "id": "99434691",
   "metadata": {},
   "outputs": [
    {
     "name": "stdout",
     "output_type": "stream",
     "text": [
      "['movie', 'absolutely', 'amazing', 'way', 'long']\n"
     ]
    }
   ],
   "source": [
    "import re\n",
    "from sklearn.feature_extraction.text import ENGLISH_STOP_WORDS\n",
    "\n",
    "stop_words = ENGLISH_STOP_WORDS\n",
    "\n",
    "# 前處理單句用函式\n",
    "def clean_text(text):\n",
    "    cleaned = re.sub(r\"[^\\w\\s]\", \"\", text)   # 去除標點與特殊符號\n",
    "    lowercase = cleaned.lower()              # 轉小寫\n",
    "    words = lowercase.split()                # 分詞\n",
    "    filtered_words = [word for word in words if word not in stop_words]  # 去除 stop words\n",
    "    return filtered_words"
   ]
  },
  {
   "cell_type": "code",
   "execution_count": null,
   "id": "933a2aac",
   "metadata": {},
   "outputs": [],
   "source": [
    "import pandas as pd\n",
    "\n",
    "# 載入 CSV 資料（有兩欄：review, sentiment）\n",
    "df = pd.read_csv(\"dataset/IMDB Dataset.csv\")\n",
    "\n",
    "# Step 1: 套用 clean_text() 處理文字欄位\n",
    "df['clean_tokens'] = df['review'].apply(clean_text)\n",
    "\n",
    "# Step 2: 轉換情緒標籤為數值\n",
    "df['label'] = df['sentiment'].map({'positive': 1, 'negative': 0})\n",
    "\n",
    "# 確認結果\n",
    "df[['review', 'clean_tokens', 'sentiment', 'label']].head()"
   ]
  },
  {
   "cell_type": "code",
   "execution_count": 13,
   "id": "5d34be0e",
   "metadata": {},
   "outputs": [
    {
     "name": "stdout",
     "output_type": "stream",
     "text": [
      "(50000, 10000)\n"
     ]
    },
    {
     "data": {
      "text/html": [
       "<div>\n",
       "<style scoped>\n",
       "    .dataframe tbody tr th:only-of-type {\n",
       "        vertical-align: middle;\n",
       "    }\n",
       "\n",
       "    .dataframe tbody tr th {\n",
       "        vertical-align: top;\n",
       "    }\n",
       "\n",
       "    .dataframe thead th {\n",
       "        text-align: right;\n",
       "    }\n",
       "</style>\n",
       "<table border=\"1\" class=\"dataframe\">\n",
       "  <thead>\n",
       "    <tr style=\"text-align: right;\">\n",
       "      <th></th>\n",
       "      <th>review</th>\n",
       "      <th>sentiment</th>\n",
       "      <th>clean_tokens</th>\n",
       "      <th>label</th>\n",
       "      <th>clean_text</th>\n",
       "    </tr>\n",
       "  </thead>\n",
       "  <tbody>\n",
       "    <tr>\n",
       "      <th>0</th>\n",
       "      <td>One of the other reviewers has mentioned that ...</td>\n",
       "      <td>positive</td>\n",
       "      <td>[reviewers, mentioned, watching, just, 1, oz, ...</td>\n",
       "      <td>1</td>\n",
       "      <td>reviewers mentioned watching just 1 oz episode...</td>\n",
       "    </tr>\n",
       "    <tr>\n",
       "      <th>1</th>\n",
       "      <td>A wonderful little production. &lt;br /&gt;&lt;br /&gt;The...</td>\n",
       "      <td>positive</td>\n",
       "      <td>[wonderful, little, production, br, br, filmin...</td>\n",
       "      <td>1</td>\n",
       "      <td>wonderful little production br br filming tech...</td>\n",
       "    </tr>\n",
       "    <tr>\n",
       "      <th>2</th>\n",
       "      <td>I thought this was a wonderful way to spend ti...</td>\n",
       "      <td>positive</td>\n",
       "      <td>[thought, wonderful, way, spend, time, hot, su...</td>\n",
       "      <td>1</td>\n",
       "      <td>thought wonderful way spend time hot summer we...</td>\n",
       "    </tr>\n",
       "    <tr>\n",
       "      <th>3</th>\n",
       "      <td>Basically there's a family where a little boy ...</td>\n",
       "      <td>negative</td>\n",
       "      <td>[basically, theres, family, little, boy, jake,...</td>\n",
       "      <td>0</td>\n",
       "      <td>basically theres family little boy jake thinks...</td>\n",
       "    </tr>\n",
       "    <tr>\n",
       "      <th>4</th>\n",
       "      <td>Petter Mattei's \"Love in the Time of Money\" is...</td>\n",
       "      <td>positive</td>\n",
       "      <td>[petter, matteis, love, time, money, visually,...</td>\n",
       "      <td>1</td>\n",
       "      <td>petter matteis love time money visually stunni...</td>\n",
       "    </tr>\n",
       "  </tbody>\n",
       "</table>\n",
       "</div>"
      ],
      "text/plain": [
       "                                              review sentiment  \\\n",
       "0  One of the other reviewers has mentioned that ...  positive   \n",
       "1  A wonderful little production. <br /><br />The...  positive   \n",
       "2  I thought this was a wonderful way to spend ti...  positive   \n",
       "3  Basically there's a family where a little boy ...  negative   \n",
       "4  Petter Mattei's \"Love in the Time of Money\" is...  positive   \n",
       "\n",
       "                                        clean_tokens  label  \\\n",
       "0  [reviewers, mentioned, watching, just, 1, oz, ...      1   \n",
       "1  [wonderful, little, production, br, br, filmin...      1   \n",
       "2  [thought, wonderful, way, spend, time, hot, su...      1   \n",
       "3  [basically, theres, family, little, boy, jake,...      0   \n",
       "4  [petter, matteis, love, time, money, visually,...      1   \n",
       "\n",
       "                                          clean_text  \n",
       "0  reviewers mentioned watching just 1 oz episode...  \n",
       "1  wonderful little production br br filming tech...  \n",
       "2  thought wonderful way spend time hot summer we...  \n",
       "3  basically theres family little boy jake thinks...  \n",
       "4  petter matteis love time money visually stunni...  "
      ]
     },
     "execution_count": 13,
     "metadata": {},
     "output_type": "execute_result"
    }
   ],
   "source": [
    "from sklearn.feature_extraction.text import CountVectorizer\n",
    "\n",
    "# 對每一筆清單都 join\n",
    "# lambda tokens: ' '.join(tokens) > 匿名函式，代表「把一個詞彙清單用空白 ' ' 接起來成為一句文字」。\n",
    "df['clean_text'] = df['clean_tokens'].apply(lambda tokens: ' '.join(tokens))\n",
    "\n",
    "# max_features=10000 > 保留最常見的前一萬個詞\n",
    "cv = CountVectorizer(max_features=10000)\n",
    "X = cv.fit_transform(df['clean_text'])\n",
    "print(X.shape)\n",
    "\n",
    "df.head()"
   ]
  },
  {
   "cell_type": "code",
   "execution_count": null,
   "id": "37479344",
   "metadata": {},
   "outputs": [],
   "source": []
  },
  {
   "cell_type": "markdown",
   "id": "5c8e8f93",
   "metadata": {},
   "source": []
  }
 ],
 "metadata": {
  "kernelspec": {
   "display_name": "Python 3",
   "language": "python",
   "name": "python3"
  },
  "language_info": {
   "codemirror_mode": {
    "name": "ipython",
    "version": 3
   },
   "file_extension": ".py",
   "mimetype": "text/x-python",
   "name": "python",
   "nbconvert_exporter": "python",
   "pygments_lexer": "ipython3",
   "version": "3.13.5"
  }
 },
 "nbformat": 4,
 "nbformat_minor": 5
}
